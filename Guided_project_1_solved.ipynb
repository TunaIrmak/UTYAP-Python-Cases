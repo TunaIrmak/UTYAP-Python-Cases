{
 "cells": [
  {
   "cell_type": "markdown",
   "metadata": {
    "id": "VMuUK0ap_bRD"
   },
   "source": [
    "# Chapter 1\n",
    "### Your first day at your new job 👩‍💻👨‍💻\n",
    "\n",
    "You are starting a new job as a junior software developer in an IT company. \n",
    "\n",
    "The company’s HR department asks you to fill out a form, so you start by assigning your personal information to corresponding variables.\n",
    "\n",
    "📌 Create a variable for your name, surname, age, ID number, place of residence, to specify if you have active health insurance or not, and lastly one for specifying your nationality.\n"
   ]
  },
  {
   "cell_type": "code",
   "execution_count": null,
   "metadata": {
    "id": "OPLhhc2Sp-D0"
   },
   "outputs": [],
   "source": [
    "#Please assign your personal information to variables\n"
   ]
  },
  {
   "cell_type": "markdown",
   "metadata": {
    "id": "3zaUlxwcp-D0"
   },
   "source": [
    "###Meet And Greet\n",
    "Introduce yourself to your new co-workers.\n",
    "\n",
    "📌 Use a f-string to print \"My name is Joey Tribbiani I am 25 years old and I live in London”."
   ]
  },
  {
   "cell_type": "code",
   "execution_count": null,
   "metadata": {
    "id": "XNuh5_2WXwvg"
   },
   "outputs": [],
   "source": [
    "#Write a sentence using the print function to describe yourself using the variables above in the correct data type\n"
   ]
  },
  {
   "cell_type": "markdown",
   "metadata": {
    "id": "EEL9To4ip-D1"
   },
   "source": [
    "### Equipment starter pack\n",
    "The HR department asks you to list the items you would need to improve your work efficiency\n",
    "\n",
    "Mandatory:\n",
    "* Laptop\n",
    "* Headset\n",
    "* Second monitor\n",
    "\n",
    "Optional:\n",
    "* Mousepad\n",
    "* USB drive\n",
    "* External drive\n",
    "\n",
    "\n",
    "📌 Create a shopping list that contains items above and print it."
   ]
  },
  {
   "cell_type": "code",
   "execution_count": 36,
   "metadata": {
    "id": "fPFBLDyqp-D2"
   },
   "outputs": [],
   "source": [
    "#Create the item_list\n",
    "item_list = [\"Laptop\",\"Headset\",\"Second monitor\",\"Mousepad\",\"USB driver\",\"External driver\"]"
   ]
  },
  {
   "cell_type": "code",
   "execution_count": 37,
   "metadata": {
    "id": "358R_CN5U2-J"
   },
   "outputs": [
    {
     "name": "stdout",
     "output_type": "stream",
     "text": [
      "['Laptop', 'Headset', 'Second monitor', 'Mousepad', 'USB driver', 'External driver']\n"
     ]
    }
   ],
   "source": [
    "#Print the list\n",
    "print(item_list)\n",
    "\n"
   ]
  },
  {
   "cell_type": "markdown",
   "metadata": {
    "id": "5keEWjCyp-D2"
   },
   "source": [
    "####What is mandatory and what is optional?\n",
    "\n",
    "📌 Use list slicing to devide your list in two list: 'mandatory_item_list' and 'optional_item_list' and print both to the screen."
   ]
  },
  {
   "cell_type": "code",
   "execution_count": 38,
   "metadata": {
    "id": "E6ewuDYZp-D2"
   },
   "outputs": [],
   "source": [
    "#Use list slicing to divide the mandatory items\n",
    "mandatory_items = item_list[0:3]\n"
   ]
  },
  {
   "cell_type": "code",
   "execution_count": 39,
   "metadata": {
    "id": "hOmkym01RGEL"
   },
   "outputs": [
    {
     "data": {
      "text/plain": [
       "['Mousepad', 'USB driver', 'External driver']"
      ]
     },
     "execution_count": 39,
     "metadata": {},
     "output_type": "execute_result"
    }
   ],
   "source": [
    "#Use list slicing to divide the optional items\n",
    "optional_items = item_list[3:]\n",
    "optional_items"
   ]
  },
  {
   "cell_type": "code",
   "execution_count": 40,
   "metadata": {
    "id": "xsVv1_msVE1_"
   },
   "outputs": [
    {
     "name": "stdout",
     "output_type": "stream",
     "text": [
      "['Laptop', 'Headset', 'Second monitor']\n",
      "['Mousepad', 'USB driver', 'External driver']\n"
     ]
    }
   ],
   "source": [
    "#Print both to the screen\n",
    "print( mandatory_items)\n",
    "print( optional_items)\n"
   ]
  },
  {
   "cell_type": "markdown",
   "metadata": {
    "id": "s_M1Q93wp-D3"
   },
   "source": [
    "#### Go Shopping\n",
    "Next, you will have to go and purchase these items, the finance department confirmed a budget of $5000.\n",
    "\n",
    "📌 Assign 5000 to a variable called limit, so you know how much you can spend."
   ]
  },
  {
   "cell_type": "code",
   "execution_count": 41,
   "metadata": {
    "id": "nCmpm0oqp-D3"
   },
   "outputs": [],
   "source": [
    "#Assign the spending limit value to a variable called limit\n",
    "limit = 5000"
   ]
  },
  {
   "cell_type": "markdown",
   "metadata": {
    "id": "VwbEEymVp-D3"
   },
   "source": [
    "####Price dictionary\n",
    "\n",
    "Before you start shopping yo need to find the best items that you can buy within the company budget. \n",
    "\n",
    "📌 Prepare a dictionary called “price_sheet” that includes the items as keys and the prices as values.  \n",
    " "
   ]
  },
  {
   "cell_type": "code",
   "execution_count": 77,
   "metadata": {
    "id": "9o9n9Ag-p-D3"
   },
   "outputs": [],
   "source": [
    "#Create a dictionary that contains each item and its price\n",
    "price_sheet = {\"Laptop\":2000,\n",
    "               \"Headset\":300,\n",
    "               \"Second monitor\":600,\n",
    "               \"Mousepad\":100,\n",
    "               \"USB driver\":150,\n",
    "               \"External driver\":250,\n",
    "                }\n"
   ]
  },
  {
   "cell_type": "markdown",
   "metadata": {
    "id": "rUYivBVEBhCv"
   },
   "source": [
    "####Shopping functions\n",
    "\n",
    "You need to define three functions that will help you during shopping.\n",
    "\n",
    "📌 First, create an empty list that  will be your shopping cart. Here you will add the items you need to purchase.\n",
    "\n",
    "1. Define a function for both adding items to the cart and removing them from the item_list.\n",
    "\n",
    "📌 The \"add_to_cart\" function should take the item name and the quantity to buy as an argument. \n",
    "\n",
    "2. Define a function that will create an invoice. \n",
    "\n",
    "📌 The \"create_invoice\" function should calculate the taxes of each item (18%) and add it to the total amount.\n",
    "\n",
    "3. Define a function for the checkout. \n",
    "\n",
    "📌 The \"checkout\" function should subtract the total amount from the budget and print a statement to inform if the payment was successful. "
   ]
  },
  {
   "cell_type": "code",
   "execution_count": 78,
   "metadata": {},
   "outputs": [],
   "source": [
    "item_list = [\"Laptop\",\"Headset\",\"Second monitor\",\"Mousepad\",\"USB driver\",\"External driver\"]"
   ]
  },
  {
   "cell_type": "code",
   "execution_count": 79,
   "metadata": {
    "id": "dBNZ2ZdkGHUe"
   },
   "outputs": [],
   "source": [
    "#Initialize the cart list\n",
    "cart = []"
   ]
  },
  {
   "cell_type": "code",
   "execution_count": 80,
   "metadata": {
    "id": "HH26hHHFGKPJ"
   },
   "outputs": [],
   "source": [
    "#Define the \"add_to_cart\" function\n",
    "def add_to_cart(item,quantity):\n",
    "    cart.append((item,quantity))\n",
    "    item_list.remove(item)   "
   ]
  },
  {
   "cell_type": "code",
   "execution_count": 81,
   "metadata": {
    "id": "TUmNr4xVGQdm"
   },
   "outputs": [],
   "source": [
    "#Define the \"create_invoice\" function\n",
    "def crate_invoice():\n",
    "    total_amount = 0\n",
    "    for item , quantity in cart:\n",
    "        price = price_sheet[item]\n",
    "        tax= 0.18 * price\n",
    "        total = (tax + price)*quantity\n",
    "        total_amount += total\n",
    "        print(\"Item:\",item,\"\\t\",\"Price:\",price,\"\\t\",\"Quantity:\",quantity,\"\\t\",\"Tax:\",tax,\"\\t\",\"Total\",total,\"\\n\")\n",
    "    \n",
    "    print(\"Total amount is:\", total_amount)\n",
    "    return total_amount"
   ]
  },
  {
   "cell_type": "code",
   "execution_count": 82,
   "metadata": {
    "id": "iUlKiXgMGdIk"
   },
   "outputs": [],
   "source": [
    "#Define the \"checkout\" function\n",
    "def checkout():\n",
    "    global limit\n",
    "    total_amount = crate_invoice()\n",
    "    if limit == 0:\n",
    "        print(\"You don't have any budget\")\n",
    "    elif total_amount > limit:\n",
    "        print(\"The amount you have to pay is above the spending spending limit. You have to drop some items\")\n",
    "    else:\n",
    "        limit-= total_amount\n",
    "        print(f\"Total amout: {total_amount}, Your limit is {limit}\")"
   ]
  },
  {
   "cell_type": "markdown",
   "metadata": {
    "id": "2IFUlu0yB0In"
   },
   "source": [
    "Let's shop!"
   ]
  },
  {
   "cell_type": "code",
   "execution_count": 83,
   "metadata": {
    "id": "FDO7CRJTWPg7"
   },
   "outputs": [
    {
     "name": "stdout",
     "output_type": "stream",
     "text": [
      "Item: Laptop \t Price: 2000 \t Quantity: 1 \t Tax: 360.0 \t Total 2360.0 \n",
      "\n",
      "Item: Headset \t Price: 300 \t Quantity: 3 \t Tax: 54.0 \t Total 1062.0 \n",
      "\n",
      "Item: Second monitor \t Price: 600 \t Quantity: 2 \t Tax: 108.0 \t Total 1416.0 \n",
      "\n",
      "Item: USB driver \t Price: 150 \t Quantity: 1 \t Tax: 27.0 \t Total 177.0 \n",
      "\n",
      "Total amount is: 5015.0\n",
      "The amount you have to pay is above the spending spending limit. You have to drop some items\n"
     ]
    }
   ],
   "source": [
    "#Call the \"add_to_cart\" function for each item\n",
    " \n",
    "#Add first item to cart\n",
    "\n",
    "add_to_cart(\"Laptop\", 1)\n",
    "add_to_cart(\"Headset\",3)\n",
    "add_to_cart(\"Second monitor\",2)\n",
    "add_to_cart(\"USB driver\",1)\n",
    "#Add second item to cart\n",
    "\n",
    " \n",
    "#Add third item to cart\n",
    "\n",
    " \n",
    "#Add fourth item to cart\n",
    "\n",
    " \n",
    "#Add fifth item to cart\n",
    "\n",
    " \n",
    "#Add last item to cart\n",
    "\n",
    " \n",
    "#Call the create \"checkout\" function to pay for all your items \n",
    "checkout()"
   ]
  },
  {
   "cell_type": "markdown",
   "metadata": {
    "id": "ZL-r2x_xKixg"
   },
   "source": [
    "###Game Night\n",
    "\n",
    "You are back at the office and the HR department organizes a welcome party for new employees. \n",
    "\n",
    "You decide to create a Rock-Paper-Scissor game. \n",
    "\n",
    "📌 Create a Rock-Paper-Scissor game in which the user plays against the computer. The player will choose one of the actions, and the computer will choose its action randomly.\n"
   ]
  },
  {
   "cell_type": "code",
   "execution_count": 60,
   "metadata": {
    "id": "qzD5pxBTgcFb"
   },
   "outputs": [],
   "source": [
    "#Import the random library\n",
    "import random as rd"
   ]
  },
  {
   "cell_type": "code",
   "execution_count": 61,
   "metadata": {
    "id": "oJv-ihLAgcRo"
   },
   "outputs": [],
   "source": [
    "#create a list containing the three actions of the game.\n",
    "act_list = [\"rock\",\"paper\",\"scissors\"]"
   ]
  },
  {
   "cell_type": "code",
   "execution_count": 63,
   "metadata": {
    "id": "DNUa_9afWqMd"
   },
   "outputs": [
    {
     "name": "stdin",
     "output_type": "stream",
     "text": [
      "How many round wish u play:  3\n"
     ]
    },
    {
     "name": "stdout",
     "output_type": "stream",
     "text": [
      "Round:  1\n"
     ]
    },
    {
     "name": "stdin",
     "output_type": "stream",
     "text": [
      "Please choose your action:  rock\n"
     ]
    },
    {
     "name": "stdout",
     "output_type": "stream",
     "text": [
      "CPU: rock\n",
      "Player: rock\n",
      "tie\n",
      "Round:  2\n"
     ]
    },
    {
     "name": "stdin",
     "output_type": "stream",
     "text": [
      "Please choose your action:  paper\n"
     ]
    },
    {
     "name": "stdout",
     "output_type": "stream",
     "text": [
      "CPU: paper\n",
      "Player: paper\n",
      "tie\n",
      "Round:  3\n"
     ]
    },
    {
     "name": "stdin",
     "output_type": "stream",
     "text": [
      "Please choose your action:  scissors\n"
     ]
    },
    {
     "name": "stdout",
     "output_type": "stream",
     "text": [
      "CPU: scissors\n",
      "Player: scissors\n",
      "tie\n",
      "Player score:  0 \n",
      " CPU score: 0\n",
      "Tie\n"
     ]
    }
   ],
   "source": [
    "player_score = 0\n",
    "cpu_score = 0\n",
    "rounds = int(input(\"How many round wish u play: \"))\n",
    "round_counter = 0\n",
    "\n",
    "while True:\n",
    "    round_counter += 1\n",
    "    print(\"Round: \",round_counter)\n",
    "    \n",
    "    cpu_choice = rd.choice(act_list)\n",
    "    player_choice= input(\"Please choose your action: \")\n",
    "    \n",
    "    print(\"CPU:\",cpu_choice)\n",
    "    print(\"Player:\",player_choice)\n",
    "    \n",
    "    if cpu_choice == player_choice:\n",
    "        print(\"tie\") \n",
    "        \n",
    "    elif player_choice == \"paper\" and cpu_choice == \"rock\":\n",
    "        player_score += 1\n",
    "        print(\"Player win\")\n",
    "    elif player_choice == \"scissors\" and cpu_choice == \"paper\":\n",
    "        player_score += 1\n",
    "        print(\"Player win\")\n",
    "    elif player_choice == \"rock\" and cpu_choice == \"scissors\":\n",
    "        player_score += 1\n",
    "        print(\"Player win\")\n",
    "    elif player_choice == \"rock\" and cpu_choice == \"paper\":\n",
    "        cpu_score += 1\n",
    "        print(\"Cpu win\")\n",
    "    elif player_choice == \"paper\" and cpu_choice == \"scissors\":\n",
    "        cpu_score += 1\n",
    "        print(\"Cpu win\")\n",
    "    elif player_choice == \"scissors\" and cpu_choice == \"rock\":\n",
    "        cpu_score += 1\n",
    "        print(\"Cpu win\")\n",
    "        \n",
    "    if round_counter == rounds:\n",
    "        break\n",
    "\n",
    "print(\"Player score: \",player_score,\"\\n\",\"CPU score:\",cpu_score)  \n",
    "\n",
    "if player_score > cpu_score:\n",
    "    print(\"Winner: Player\")\n",
    "elif player_score < cpu_score:\n",
    "    print(\"Winner: CPU\")\n",
    "else:\n",
    "    print(\"Tie\")\n",
    "  \n",
    "\n",
    "\n",
    "#Print the outcome of the game by using conditional statements\n"
   ]
  },
  {
   "cell_type": "markdown",
   "metadata": {
    "id": "jdrYN0Xgp-D6"
   },
   "source": [
    "# Your first task \n",
    "\n",
    "Rachel asks you to write a program to track the name and revenue each employee brings.  \n",
    "\n",
    "* Create the \"salesperson_revenue\" dictionary to see the employee name as a key and the revenue as a value.\n",
    "\n",
    "  📌 Every employee starts with 0 revenue.\n",
    "* Define the \"enter_revenue\" function. \n",
    "\n",
    "  📌 The function takes the name and revenue as an argument and updates the salesperson_revenue dictionary.\n"
   ]
  },
  {
   "cell_type": "code",
   "execution_count": 84,
   "metadata": {
    "id": "3vzRo7hyMRv2"
   },
   "outputs": [],
   "source": [
    "#Create salesperson_revenue dictionary\n",
    "salesperson_revenue = {\n",
    "    \"Ben\":0,\n",
    "    \"Omer\":0,\n",
    "    \"Sue\":0,\n",
    "    \"Celine\":0,\n",
    "    \"Karen\":0,\n",
    "    \"Bora\":0,\n",
    "    \"Rose\":0,\n",
    "    \"Ellen\":0\n",
    "}\n"
   ]
  },
  {
   "cell_type": "code",
   "execution_count": 85,
   "metadata": {
    "id": "m-8IozBwMRzM"
   },
   "outputs": [],
   "source": [
    "#Define enter_revenue function\n",
    "def enter_revenue(person,revenue):\n",
    "    global salesperson_revenue\n",
    "    salesperson_revenue[person] += revenue\n"
   ]
  },
  {
   "cell_type": "markdown",
   "metadata": {
    "id": "UnTGSoNTi58u"
   },
   "source": [
    "####Try out the functions\n",
    "* In a while loop ask the user to give the name of the employee and for the revenue \n",
    "\n",
    "  📌 If the user enters “quit” the loop should break.\n",
    "\n",
    "After that, print out the salesperson_revenue dictionary.\n"
   ]
  },
  {
   "cell_type": "code",
   "execution_count": 87,
   "metadata": {
    "id": "2E549VvFXNi6"
   },
   "outputs": [
    {
     "name": "stdin",
     "output_type": "stream",
     "text": [
      "Enter employee's name(Type quit for exit):  Ben\n",
      "Enter revenue:  1222\n"
     ]
    },
    {
     "name": "stdout",
     "output_type": "stream",
     "text": [
      "Ben's revenue is 1222\n"
     ]
    },
    {
     "name": "stdin",
     "output_type": "stream",
     "text": [
      "Enter employee's name(Type quit for exit):  Omer\n",
      "Enter revenue:  4521\n"
     ]
    },
    {
     "name": "stdout",
     "output_type": "stream",
     "text": [
      "Omer's revenue is 4521\n"
     ]
    },
    {
     "name": "stdin",
     "output_type": "stream",
     "text": [
      "Enter employee's name(Type quit for exit):  Sue\n",
      "Enter revenue:  5446\n"
     ]
    },
    {
     "name": "stdout",
     "output_type": "stream",
     "text": [
      "Sue's revenue is 5446\n"
     ]
    },
    {
     "name": "stdin",
     "output_type": "stream",
     "text": [
      "Enter employee's name(Type quit for exit):  Celine\n",
      "Enter revenue:  2356\n"
     ]
    },
    {
     "name": "stdout",
     "output_type": "stream",
     "text": [
      "Celine's revenue is 2356\n"
     ]
    },
    {
     "name": "stdin",
     "output_type": "stream",
     "text": [
      "Enter employee's name(Type quit for exit):  Karen\n",
      "Enter revenue:  4567\n"
     ]
    },
    {
     "name": "stdout",
     "output_type": "stream",
     "text": [
      "Karen's revenue is 4567\n"
     ]
    },
    {
     "name": "stdin",
     "output_type": "stream",
     "text": [
      "Enter employee's name(Type quit for exit):  Bora\n",
      "Enter revenue:  2235\n"
     ]
    },
    {
     "name": "stdout",
     "output_type": "stream",
     "text": [
      "Bora's revenue is 3235\n"
     ]
    },
    {
     "name": "stdin",
     "output_type": "stream",
     "text": [
      "Enter employee's name(Type quit for exit):  Rose\n",
      "Enter revenue:  4589\n"
     ]
    },
    {
     "name": "stdout",
     "output_type": "stream",
     "text": [
      "Rose's revenue is 4589\n"
     ]
    },
    {
     "name": "stdin",
     "output_type": "stream",
     "text": [
      "Enter employee's name(Type quit for exit):  Ellen\n",
      "Enter revenue:  9999\n"
     ]
    },
    {
     "name": "stdout",
     "output_type": "stream",
     "text": [
      "Ellen's revenue is 11219\n"
     ]
    },
    {
     "name": "stdin",
     "output_type": "stream",
     "text": [
      "Enter employee's name(Type quit for exit):  quit\n"
     ]
    }
   ],
   "source": [
    "#Asking user employee name as input\n",
    "while True:\n",
    "    name = input(\"Enter employee's name(Type quit for exit): \")\n",
    "    if name == \"quit\":\n",
    "        break\n",
    "    revenue = int(input(\"Enter revenue: \"))\n",
    "    enter_revenue(name,revenue)\n",
    "    print(f\"{name}'s revenue is {salesperson_revenue[name]}\")"
   ]
  },
  {
   "cell_type": "code",
   "execution_count": 88,
   "metadata": {
    "id": "OAvl9rgOXPe6"
   },
   "outputs": [
    {
     "data": {
      "text/plain": [
       "{'Ben': 1222,\n",
       " 'Omer': 4521,\n",
       " 'Sue': 5446,\n",
       " 'Celine': 2356,\n",
       " 'Karen': 4567,\n",
       " 'Bora': 3235,\n",
       " 'Rose': 4589,\n",
       " 'Ellen': 11219}"
      ]
     },
     "execution_count": 88,
     "metadata": {},
     "output_type": "execute_result"
    }
   ],
   "source": [
    "#Print the salesperson_revenue dictionary\n",
    "salesperson_revenue"
   ]
  }
 ],
 "metadata": {
  "colab": {
   "collapsed_sections": [],
   "name": "Guided_project_1.ipynb",
   "provenance": []
  },
  "interpreter": {
   "hash": "c5914ae3790566b9cd0e984a9bdda42a29da8adf046b5ac0173e0d37aacf3dab"
  },
  "kernelspec": {
   "display_name": "Python 3 (ipykernel)",
   "language": "python",
   "name": "python3"
  },
  "language_info": {
   "codemirror_mode": {
    "name": "ipython",
    "version": 3
   },
   "file_extension": ".py",
   "mimetype": "text/x-python",
   "name": "python",
   "nbconvert_exporter": "python",
   "pygments_lexer": "ipython3",
   "version": "3.9.12"
  }
 },
 "nbformat": 4,
 "nbformat_minor": 4
}
